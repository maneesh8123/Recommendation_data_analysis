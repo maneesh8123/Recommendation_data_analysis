{
 "cells": [
  {
   "cell_type": "code",
   "execution_count": 1,
   "id": "a573b223",
   "metadata": {},
   "outputs": [],
   "source": [
    "import pandas as pd\n",
    "import matplotlib.pyplot as plt\n",
    "%matplotlib inline\n",
    "import seaborn as sns"
   ]
  },
  {
   "cell_type": "code",
   "execution_count": 6,
   "id": "14d49fba",
   "metadata": {},
   "outputs": [],
   "source": [
    "Data=pd.read_csv(r\"D:\\Recommendation\\coursea_data.csv\")"
   ]
  },
  {
   "cell_type": "code",
   "execution_count": 3,
   "id": "262150e0",
   "metadata": {},
   "outputs": [
    {
     "data": {
      "text/html": [
       "<div>\n",
       "<style scoped>\n",
       "    .dataframe tbody tr th:only-of-type {\n",
       "        vertical-align: middle;\n",
       "    }\n",
       "\n",
       "    .dataframe tbody tr th {\n",
       "        vertical-align: top;\n",
       "    }\n",
       "\n",
       "    .dataframe thead th {\n",
       "        text-align: right;\n",
       "    }\n",
       "</style>\n",
       "<table border=\"1\" class=\"dataframe\">\n",
       "  <thead>\n",
       "    <tr style=\"text-align: right;\">\n",
       "      <th></th>\n",
       "      <th>Unnamed: 0</th>\n",
       "      <th>course_title</th>\n",
       "      <th>course_organization</th>\n",
       "      <th>course_Certificate_type</th>\n",
       "      <th>course_rating</th>\n",
       "      <th>course_difficulty</th>\n",
       "      <th>course_students_enrolled</th>\n",
       "    </tr>\n",
       "  </thead>\n",
       "  <tbody>\n",
       "    <tr>\n",
       "      <th>0</th>\n",
       "      <td>134</td>\n",
       "      <td>(ISC)² Systems Security Certified Practitioner...</td>\n",
       "      <td>(ISC)²</td>\n",
       "      <td>SPECIALIZATION</td>\n",
       "      <td>4.7</td>\n",
       "      <td>Beginner</td>\n",
       "      <td>5.3k</td>\n",
       "    </tr>\n",
       "    <tr>\n",
       "      <th>1</th>\n",
       "      <td>743</td>\n",
       "      <td>A Crash Course in Causality:  Inferring Causal...</td>\n",
       "      <td>University of Pennsylvania</td>\n",
       "      <td>COURSE</td>\n",
       "      <td>4.7</td>\n",
       "      <td>Intermediate</td>\n",
       "      <td>17k</td>\n",
       "    </tr>\n",
       "    <tr>\n",
       "      <th>2</th>\n",
       "      <td>874</td>\n",
       "      <td>A Crash Course in Data Science</td>\n",
       "      <td>Johns Hopkins University</td>\n",
       "      <td>COURSE</td>\n",
       "      <td>4.5</td>\n",
       "      <td>Mixed</td>\n",
       "      <td>130k</td>\n",
       "    </tr>\n",
       "    <tr>\n",
       "      <th>3</th>\n",
       "      <td>413</td>\n",
       "      <td>A Law Student's Toolkit</td>\n",
       "      <td>Yale University</td>\n",
       "      <td>COURSE</td>\n",
       "      <td>4.7</td>\n",
       "      <td>Mixed</td>\n",
       "      <td>91k</td>\n",
       "    </tr>\n",
       "    <tr>\n",
       "      <th>4</th>\n",
       "      <td>635</td>\n",
       "      <td>A Life of Happiness and Fulfillment</td>\n",
       "      <td>Indian School of Business</td>\n",
       "      <td>COURSE</td>\n",
       "      <td>4.8</td>\n",
       "      <td>Mixed</td>\n",
       "      <td>320k</td>\n",
       "    </tr>\n",
       "  </tbody>\n",
       "</table>\n",
       "</div>"
      ],
      "text/plain": [
       "   Unnamed: 0                                       course_title  \\\n",
       "0         134  (ISC)² Systems Security Certified Practitioner...   \n",
       "1         743  A Crash Course in Causality:  Inferring Causal...   \n",
       "2         874                     A Crash Course in Data Science   \n",
       "3         413                            A Law Student's Toolkit   \n",
       "4         635                A Life of Happiness and Fulfillment   \n",
       "\n",
       "          course_organization course_Certificate_type  course_rating  \\\n",
       "0                      (ISC)²          SPECIALIZATION            4.7   \n",
       "1  University of Pennsylvania                  COURSE            4.7   \n",
       "2    Johns Hopkins University                  COURSE            4.5   \n",
       "3             Yale University                  COURSE            4.7   \n",
       "4   Indian School of Business                  COURSE            4.8   \n",
       "\n",
       "  course_difficulty course_students_enrolled  \n",
       "0          Beginner                     5.3k  \n",
       "1      Intermediate                      17k  \n",
       "2             Mixed                     130k  \n",
       "3             Mixed                      91k  \n",
       "4             Mixed                     320k  "
      ]
     },
     "execution_count": 3,
     "metadata": {},
     "output_type": "execute_result"
    }
   ],
   "source": [
    "Data.head()"
   ]
  },
  {
   "cell_type": "code",
   "execution_count": 10,
   "id": "c34b3f89",
   "metadata": {},
   "outputs": [
    {
     "data": {
      "text/plain": [
       "Index(['Unnamed: 0', 'course_title', 'course_organization',\n",
       "       'course_Certificate_type', 'course_rating', 'course_difficulty',\n",
       "       'course_students_enrolled'],\n",
       "      dtype='object')"
      ]
     },
     "execution_count": 10,
     "metadata": {},
     "output_type": "execute_result"
    }
   ],
   "source": [
    "Data.columns"
   ]
  },
  {
   "cell_type": "code",
   "execution_count": 11,
   "id": "b5b70833",
   "metadata": {},
   "outputs": [],
   "source": [
    "Data.drop('Unnamed: 0',axis=1,inplace=True)"
   ]
  },
  {
   "cell_type": "markdown",
   "id": "560eae29",
   "metadata": {},
   "source": [
    "# EDA"
   ]
  },
  {
   "cell_type": "code",
   "execution_count": 12,
   "id": "49c95635",
   "metadata": {},
   "outputs": [
    {
     "data": {
      "text/plain": [
       "Index(['course_title', 'course_organization', 'course_Certificate_type',\n",
       "       'course_rating', 'course_difficulty', 'course_students_enrolled'],\n",
       "      dtype='object')"
      ]
     },
     "execution_count": 12,
     "metadata": {},
     "output_type": "execute_result"
    }
   ],
   "source": [
    "Data.columns"
   ]
  },
  {
   "cell_type": "code",
   "execution_count": 13,
   "id": "33da5853",
   "metadata": {},
   "outputs": [
    {
     "data": {
      "text/plain": [
       "(891, 6)"
      ]
     },
     "execution_count": 13,
     "metadata": {},
     "output_type": "execute_result"
    }
   ],
   "source": [
    "Data.shape"
   ]
  },
  {
   "cell_type": "code",
   "execution_count": 14,
   "id": "8dd7e756",
   "metadata": {},
   "outputs": [
    {
     "name": "stdout",
     "output_type": "stream",
     "text": [
      "<class 'pandas.core.frame.DataFrame'>\n",
      "RangeIndex: 891 entries, 0 to 890\n",
      "Data columns (total 6 columns):\n",
      " #   Column                    Non-Null Count  Dtype  \n",
      "---  ------                    --------------  -----  \n",
      " 0   course_title              891 non-null    object \n",
      " 1   course_organization       891 non-null    object \n",
      " 2   course_Certificate_type   891 non-null    object \n",
      " 3   course_rating             891 non-null    float64\n",
      " 4   course_difficulty         891 non-null    object \n",
      " 5   course_students_enrolled  891 non-null    object \n",
      "dtypes: float64(1), object(5)\n",
      "memory usage: 41.9+ KB\n"
     ]
    }
   ],
   "source": [
    "Data.info()"
   ]
  },
  {
   "cell_type": "code",
   "execution_count": 15,
   "id": "2bc17049",
   "metadata": {},
   "outputs": [
    {
     "data": {
      "text/plain": [
       "course_title                0\n",
       "course_organization         0\n",
       "course_Certificate_type     0\n",
       "course_rating               0\n",
       "course_difficulty           0\n",
       "course_students_enrolled    0\n",
       "dtype: int64"
      ]
     },
     "execution_count": 15,
     "metadata": {},
     "output_type": "execute_result"
    }
   ],
   "source": [
    "#Checking for null values\n",
    "\n",
    "Data.isnull().sum()"
   ]
  },
  {
   "cell_type": "code",
   "execution_count": 16,
   "id": "db3d2613",
   "metadata": {},
   "outputs": [
    {
     "data": {
      "text/plain": [
       "count    891.000000\n",
       "mean       4.677329\n",
       "std        0.162225\n",
       "min        3.300000\n",
       "25%        4.600000\n",
       "50%        4.700000\n",
       "75%        4.800000\n",
       "max        5.000000\n",
       "Name: course_rating, dtype: float64"
      ]
     },
     "execution_count": 16,
     "metadata": {},
     "output_type": "execute_result"
    }
   ],
   "source": [
    "#some neumerical assumtion on column course_rating\n",
    "\n",
    "Data['course_rating'].describe()"
   ]
  },
  {
   "cell_type": "code",
   "execution_count": 28,
   "id": "37559911",
   "metadata": {},
   "outputs": [
    {
     "data": {
      "text/plain": [
       "Developing Your Musicianship                             2\n",
       "Marketing Digital                                        2\n",
       "Machine Learning                                         2\n",
       "(ISC)² Systems Security Certified Practitioner (SSCP)    1\n",
       "Medical Neuroscience                                     1\n",
       "Name: course_title, dtype: int64"
      ]
     },
     "execution_count": 28,
     "metadata": {},
     "output_type": "execute_result"
    }
   ],
   "source": [
    "Data['course_title'].value_counts().head()"
   ]
  },
  {
   "cell_type": "markdown",
   "id": "e90e0c9c",
   "metadata": {},
   "source": [
    "## Getting the counts of each categories in each columns "
   ]
  },
  {
   "cell_type": "code",
   "execution_count": 24,
   "id": "132e5e3b",
   "metadata": {},
   "outputs": [
    {
     "data": {
      "text/plain": [
       "University of Pennsylvania                    59\n",
       "University of Michigan                        41\n",
       "Google Cloud                                  34\n",
       "Johns Hopkins University                      28\n",
       "Duke University                               28\n",
       "University of California, Irvine              27\n",
       "IBM                                           22\n",
       "University of Illinois at Urbana-Champaign    22\n",
       "University of California, Davis               21\n",
       "University of Colorado Boulder                19\n",
       "University of Virginia                        19\n",
       "Name: course_organization, dtype: int64"
      ]
     },
     "execution_count": 24,
     "metadata": {},
     "output_type": "execute_result"
    }
   ],
   "source": [
    "Data['course_organization'].value_counts().head(11)"
   ]
  },
  {
   "cell_type": "code",
   "execution_count": 36,
   "id": "cc934e6f",
   "metadata": {},
   "outputs": [
    {
     "data": {
      "text/plain": [
       "<AxesSubplot:xlabel='course_difficulty', ylabel='count'>"
      ]
     },
     "execution_count": 36,
     "metadata": {},
     "output_type": "execute_result"
    },
    {
     "data": {
      "image/png": "[encoded data removed]",
      "text/plain": [
       "<Figure size 432x288 with 1 Axes>"
      ]
     },
     "metadata": {
      "needs_background": "light"
     },
     "output_type": "display_data"
    }
   ],
   "source": [
    "sns.countplot(x='course_difficulty',data=Data)"
   ]
  },
  {
   "cell_type": "markdown",
   "id": "9d985d20",
   "metadata": {},
   "source": [
    "Observation : most of the students select Bigginer level of course difficulty"
   ]
  },
  {
   "cell_type": "code",
   "execution_count": 29,
   "id": "c34dc8a3",
   "metadata": {},
   "outputs": [
    {
     "data": {
      "text/plain": [
       "4.8    256\n",
       "4.7    251\n",
       "4.6    168\n",
       "4.5     80\n",
       "4.9     68\n",
       "Name: course_rating, dtype: int64"
      ]
     },
     "execution_count": 29,
     "metadata": {},
     "output_type": "execute_result"
    }
   ],
   "source": [
    "Data['course_rating'].value_counts().head()"
   ]
  },
  {
   "cell_type": "code",
   "execution_count": 47,
   "id": "53bad93f",
   "metadata": {},
   "outputs": [
    {
     "data": {
      "text/plain": [
       "(array([  1.,   0.,   1.,   2.,   3.,  25.,  34., 248., 507.,  70.]),\n",
       " array([3.3 , 3.47, 3.64, 3.81, 3.98, 4.15, 4.32, 4.49, 4.66, 4.83, 5.  ]),\n",
       " <BarContainer object of 10 artists>)"
      ]
     },
     "execution_count": 47,
     "metadata": {},
     "output_type": "execute_result"
    },
    {
     "data": {
      "image/png": "[encoded data removed]",
      "text/plain": [
       "<Figure size 432x288 with 1 Axes>"
      ]
     },
     "metadata": {
      "needs_background": "light"
     },
     "output_type": "display_data"
    }
   ],
   "source": [
    "plt.hist(Data.course_rating)"
   ]
  },
  {
   "cell_type": "markdown",
   "id": "412cd4b1",
   "metadata": {},
   "source": [
    "most of the rating lies  between 4.50 to 4.80 "
   ]
  },
  {
   "cell_type": "code",
   "execution_count": 31,
   "id": "7554028c",
   "metadata": {},
   "outputs": [
    {
     "data": {
      "text/plain": [
       "<AxesSubplot:xlabel='course_Certificate_type', ylabel='count'>"
      ]
     },
     "execution_count": 31,
     "metadata": {},
     "output_type": "execute_result"
    },
    {
     "data": {
      "image/png": "[encoded data removed]",
      "text/plain": [
       "<Figure size 432x288 with 1 Axes>"
      ]
     },
     "metadata": {
      "needs_background": "light"
     },
     "output_type": "display_data"
    }
   ],
   "source": [
    "sns.countplot(x=\"course_Certificate_type\", data=Data)"
   ]
  },
  {
   "cell_type": "markdown",
   "id": "2e911531",
   "metadata": {},
   "source": [
    "observation: most of the students choose cirtificate type COURSE"
   ]
  },
  {
   "cell_type": "code",
   "execution_count": 43,
   "id": "dbe6c4bf",
   "metadata": {},
   "outputs": [
    {
     "data": {
      "text/plain": [
       "<BarContainer object of 891 artists>"
      ]
     },
     "execution_count": 43,
     "metadata": {},
     "output_type": "execute_result"
    },
    {
     "data": {
      "image/png": "[encoded data removed]",
      "text/plain": [
       "<Figure size 432x288 with 1 Axes>"
      ]
     },
     "metadata": {
      "needs_background": "light"
     },
     "output_type": "display_data"
    }
   ],
   "source": [
    "plt.bar(Data.course_difficulty,Data.course_rating)"
   ]
  },
  {
   "cell_type": "code",
   "execution_count": 54,
   "id": "13fc61af",
   "metadata": {},
   "outputs": [
    {
     "data": {
      "text/plain": [
       "Index(['course_title', 'course_organization', 'course_Certificate_type',\n",
       "       'course_rating', 'course_difficulty', 'course_students_enrolled'],\n",
       "      dtype='object')"
      ]
     },
     "execution_count": 54,
     "metadata": {},
     "output_type": "execute_result"
    }
   ],
   "source": [
    "Data.columns"
   ]
  },
  {
   "cell_type": "markdown",
   "id": "3299b8dd",
   "metadata": {},
   "source": [
    "Observation : from the figure , we can see each course difficulty type have almost same count of rating are given by the students. "
   ]
  },
  {
   "cell_type": "markdown",
   "id": "5be6b96e",
   "metadata": {},
   "source": [
    "Final Observation:To build a course recommendation system on this dataset,we can use Features -'course_title','course_rating','course_difficulty', 'course_students_enrolled'.These features will make our model which gives better recommendations ."
   ]
  }
 ],
 "metadata": {
  "kernelspec": {
   "display_name": "Python 3 (ipykernel)",
   "language": "python",
   "name": "python3"
  },
  "language_info": {
   "codemirror_mode": {
    "name": "ipython",
    "version": 3
   },
   "file_extension": ".py",
   "mimetype": "text/x-python",
   "name": "python",
   "nbconvert_exporter": "python",
   "pygments_lexer": "ipython3",
   "version": "3.9.7"
  }
 },
 "nbformat": 4,
 "nbformat_minor": 5
}
