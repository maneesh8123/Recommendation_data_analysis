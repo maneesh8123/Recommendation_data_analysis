{
 "cells": [
  {
   "cell_type": "markdown",
   "id": "399b96e4",
   "metadata": {},
   "source": [
    "Dataset :https://www.kaggle.com/datasets/PromptCloudHQ/us-technology-jobs-on-dicecom"
   ]
  },
  {
   "cell_type": "code",
   "execution_count": 2,
   "id": "f868ac1a",
   "metadata": {},
   "outputs": [],
   "source": [
    "import pandas as pd\n",
    "import matplotlib.pyplot as plt\n",
    "%matplotlib inline\n",
    "import seaborn as sns"
   ]
  },
  {
   "cell_type": "code",
   "execution_count": 3,
   "id": "e1ac0cd7",
   "metadata": {},
   "outputs": [],
   "source": [
    "job_data=pd.read_csv(r\"D:\\Recommendation\\dice_com-job_us_sample.csv\\dice_com-job_us_sample.csv\")"
   ]
  },
  {
   "cell_type": "code",
   "execution_count": 4,
   "id": "cb41dc5f",
   "metadata": {},
   "outputs": [
    {
     "data": {
      "text/html": [
       "<div>\n",
       "<style scoped>\n",
       "    .dataframe tbody tr th:only-of-type {\n",
       "        vertical-align: middle;\n",
       "    }\n",
       "\n",
       "    .dataframe tbody tr th {\n",
       "        vertical-align: top;\n",
       "    }\n",
       "\n",
       "    .dataframe thead th {\n",
       "        text-align: right;\n",
       "    }\n",
       "</style>\n",
       "<table border=\"1\" class=\"dataframe\">\n",
       "  <thead>\n",
       "    <tr style=\"text-align: right;\">\n",
       "      <th></th>\n",
       "      <th>advertiserurl</th>\n",
       "      <th>company</th>\n",
       "      <th>employmenttype_jobstatus</th>\n",
       "      <th>jobdescription</th>\n",
       "      <th>jobid</th>\n",
       "      <th>joblocation_address</th>\n",
       "      <th>jobtitle</th>\n",
       "      <th>postdate</th>\n",
       "      <th>shift</th>\n",
       "      <th>site_name</th>\n",
       "      <th>skills</th>\n",
       "      <th>uniq_id</th>\n",
       "    </tr>\n",
       "  </thead>\n",
       "  <tbody>\n",
       "    <tr>\n",
       "      <th>0</th>\n",
       "      <td>https://www.dice.com/jobs/detail/AUTOMATION-TE...</td>\n",
       "      <td>Digital Intelligence Systems, LLC</td>\n",
       "      <td>C2H Corp-To-Corp, C2H Independent, C2H W2, 3 M...</td>\n",
       "      <td>Looking for Selenium engineers...must have sol...</td>\n",
       "      <td>Dice Id : 10110693</td>\n",
       "      <td>Atlanta, GA</td>\n",
       "      <td>AUTOMATION TEST ENGINEER</td>\n",
       "      <td>1 hour ago</td>\n",
       "      <td>Telecommuting not available|Travel not required</td>\n",
       "      <td>NaN</td>\n",
       "      <td>SEE BELOW</td>\n",
       "      <td>418ff92580b270ef4e7c14f0ddfc36b4</td>\n",
       "    </tr>\n",
       "    <tr>\n",
       "      <th>1</th>\n",
       "      <td>https://www.dice.com/jobs/detail/Information-S...</td>\n",
       "      <td>University of Chicago/IT Services</td>\n",
       "      <td>Full Time</td>\n",
       "      <td>The University of Chicago has a rapidly growin...</td>\n",
       "      <td>Dice Id : 10114469</td>\n",
       "      <td>Chicago, IL</td>\n",
       "      <td>Information Security Engineer</td>\n",
       "      <td>1 week ago</td>\n",
       "      <td>Telecommuting not available|Travel not required</td>\n",
       "      <td>NaN</td>\n",
       "      <td>linux/unix, network monitoring, incident respo...</td>\n",
       "      <td>8aec88cba08d53da65ab99cf20f6f9d9</td>\n",
       "    </tr>\n",
       "    <tr>\n",
       "      <th>2</th>\n",
       "      <td>https://www.dice.com/jobs/detail/Business-Solu...</td>\n",
       "      <td>Galaxy Systems, Inc.</td>\n",
       "      <td>Full Time</td>\n",
       "      <td>GalaxE.SolutionsEvery day, our solutions affec...</td>\n",
       "      <td>Dice Id : CXGALXYS</td>\n",
       "      <td>Schaumburg, IL</td>\n",
       "      <td>Business Solutions Architect</td>\n",
       "      <td>2 weeks ago</td>\n",
       "      <td>Telecommuting not available|Travel not required</td>\n",
       "      <td>NaN</td>\n",
       "      <td>Enterprise Solutions Architecture, business in...</td>\n",
       "      <td>46baa1f69ac07779274bcd90b85d9a72</td>\n",
       "    </tr>\n",
       "    <tr>\n",
       "      <th>3</th>\n",
       "      <td>https://www.dice.com/jobs/detail/Java-Develope...</td>\n",
       "      <td>TransTech LLC</td>\n",
       "      <td>Full Time</td>\n",
       "      <td>Java DeveloperFull-time/direct-hireBolingbrook...</td>\n",
       "      <td>Dice Id : 10113627</td>\n",
       "      <td>Bolingbrook, IL</td>\n",
       "      <td>Java Developer (mid level)- FT- GREAT culture,...</td>\n",
       "      <td>2 weeks ago</td>\n",
       "      <td>Telecommuting not available|Travel not required</td>\n",
       "      <td>NaN</td>\n",
       "      <td>Please see job description</td>\n",
       "      <td>3941b2f206ae0f900c4fba4ac0b18719</td>\n",
       "    </tr>\n",
       "    <tr>\n",
       "      <th>4</th>\n",
       "      <td>https://www.dice.com/jobs/detail/DevOps-Engine...</td>\n",
       "      <td>Matrix Resources</td>\n",
       "      <td>Full Time</td>\n",
       "      <td>Midtown based high tech firm has an immediate ...</td>\n",
       "      <td>Dice Id : matrixga</td>\n",
       "      <td>Atlanta, GA</td>\n",
       "      <td>DevOps Engineer</td>\n",
       "      <td>48 minutes ago</td>\n",
       "      <td>Telecommuting not available|Travel not required</td>\n",
       "      <td>NaN</td>\n",
       "      <td>Configuration Management, Developer, Linux, Ma...</td>\n",
       "      <td>45efa1f6bc65acc32bbbb953a1ed13b7</td>\n",
       "    </tr>\n",
       "  </tbody>\n",
       "</table>\n",
       "</div>"
      ],
      "text/plain": [
       "                                       advertiserurl  \\\n",
       "0  https://www.dice.com/jobs/detail/AUTOMATION-TE...   \n",
       "1  https://www.dice.com/jobs/detail/Information-S...   \n",
       "2  https://www.dice.com/jobs/detail/Business-Solu...   \n",
       "3  https://www.dice.com/jobs/detail/Java-Develope...   \n",
       "4  https://www.dice.com/jobs/detail/DevOps-Engine...   \n",
       "\n",
       "                             company  \\\n",
       "0  Digital Intelligence Systems, LLC   \n",
       "1  University of Chicago/IT Services   \n",
       "2               Galaxy Systems, Inc.   \n",
       "3                      TransTech LLC   \n",
       "4                   Matrix Resources   \n",
       "\n",
       "                            employmenttype_jobstatus  \\\n",
       "0  C2H Corp-To-Corp, C2H Independent, C2H W2, 3 M...   \n",
       "1                                          Full Time   \n",
       "2                                          Full Time   \n",
       "3                                          Full Time   \n",
       "4                                          Full Time   \n",
       "\n",
       "                                      jobdescription               jobid  \\\n",
       "0  Looking for Selenium engineers...must have sol...  Dice Id : 10110693   \n",
       "1  The University of Chicago has a rapidly growin...  Dice Id : 10114469   \n",
       "2  GalaxE.SolutionsEvery day, our solutions affec...  Dice Id : CXGALXYS   \n",
       "3  Java DeveloperFull-time/direct-hireBolingbrook...  Dice Id : 10113627   \n",
       "4  Midtown based high tech firm has an immediate ...  Dice Id : matrixga   \n",
       "\n",
       "  joblocation_address                                           jobtitle  \\\n",
       "0         Atlanta, GA                           AUTOMATION TEST ENGINEER   \n",
       "1         Chicago, IL                      Information Security Engineer   \n",
       "2      Schaumburg, IL                       Business Solutions Architect   \n",
       "3     Bolingbrook, IL  Java Developer (mid level)- FT- GREAT culture,...   \n",
       "4         Atlanta, GA                                    DevOps Engineer   \n",
       "\n",
       "         postdate                                            shift site_name  \\\n",
       "0      1 hour ago  Telecommuting not available|Travel not required       NaN   \n",
       "1      1 week ago  Telecommuting not available|Travel not required       NaN   \n",
       "2     2 weeks ago  Telecommuting not available|Travel not required       NaN   \n",
       "3     2 weeks ago  Telecommuting not available|Travel not required       NaN   \n",
       "4  48 minutes ago  Telecommuting not available|Travel not required       NaN   \n",
       "\n",
       "                                              skills  \\\n",
       "0                                          SEE BELOW   \n",
       "1  linux/unix, network monitoring, incident respo...   \n",
       "2  Enterprise Solutions Architecture, business in...   \n",
       "3                         Please see job description   \n",
       "4  Configuration Management, Developer, Linux, Ma...   \n",
       "\n",
       "                            uniq_id  \n",
       "0  418ff92580b270ef4e7c14f0ddfc36b4  \n",
       "1  8aec88cba08d53da65ab99cf20f6f9d9  \n",
       "2  46baa1f69ac07779274bcd90b85d9a72  \n",
       "3  3941b2f206ae0f900c4fba4ac0b18719  \n",
       "4  45efa1f6bc65acc32bbbb953a1ed13b7  "
      ]
     },
     "execution_count": 4,
     "metadata": {},
     "output_type": "execute_result"
    }
   ],
   "source": [
    "job_data.head()"
   ]
  },
  {
   "cell_type": "code",
   "execution_count": 5,
   "id": "4240eed8",
   "metadata": {},
   "outputs": [
    {
     "data": {
      "text/plain": [
       "(22000, 12)"
      ]
     },
     "execution_count": 5,
     "metadata": {},
     "output_type": "execute_result"
    }
   ],
   "source": [
    "job_data.shape"
   ]
  },
  {
   "cell_type": "code",
   "execution_count": 6,
   "id": "496b2c01",
   "metadata": {},
   "outputs": [
    {
     "name": "stdout",
     "output_type": "stream",
     "text": [
      "<class 'pandas.core.frame.DataFrame'>\n",
      "RangeIndex: 22000 entries, 0 to 21999\n",
      "Data columns (total 12 columns):\n",
      " #   Column                    Non-Null Count  Dtype \n",
      "---  ------                    --------------  ----- \n",
      " 0   advertiserurl             22000 non-null  object\n",
      " 1   company                   21950 non-null  object\n",
      " 2   employmenttype_jobstatus  21770 non-null  object\n",
      " 3   jobdescription            22000 non-null  object\n",
      " 4   jobid                     22000 non-null  object\n",
      " 5   joblocation_address       21997 non-null  object\n",
      " 6   jobtitle                  22000 non-null  object\n",
      " 7   postdate                  22000 non-null  object\n",
      " 8   shift                     21643 non-null  object\n",
      " 9   site_name                 3490 non-null   object\n",
      " 10  skills                    21957 non-null  object\n",
      " 11  uniq_id                   22000 non-null  object\n",
      "dtypes: object(12)\n",
      "memory usage: 2.0+ MB\n"
     ]
    }
   ],
   "source": [
    "job_data.info()"
   ]
  },
  {
   "cell_type": "code",
   "execution_count": 9,
   "id": "4339fa42",
   "metadata": {},
   "outputs": [
    {
     "data": {
      "text/plain": [
       "advertiserurl                   0\n",
       "company                        50\n",
       "employmenttype_jobstatus      230\n",
       "jobdescription                  0\n",
       "jobid                           0\n",
       "joblocation_address             3\n",
       "jobtitle                        0\n",
       "postdate                        0\n",
       "shift                         357\n",
       "site_name                   18510\n",
       "skills                         43\n",
       "uniq_id                         0\n",
       "dtype: int64"
      ]
     },
     "execution_count": 9,
     "metadata": {},
     "output_type": "execute_result"
    }
   ],
   "source": [
    "job_data.isnull().sum()"
   ]
  },
  {
   "cell_type": "code",
   "execution_count": 11,
   "id": "b909c370",
   "metadata": {},
   "outputs": [
    {
     "name": "stdout",
     "output_type": "stream",
     "text": [
      "1 day ago\n",
      "moments ago\n"
     ]
    }
   ],
   "source": [
    "#job post date with \n",
    "print(job_data['postdate'].min())\n",
    "print(job_data['postdate'].max())"
   ]
  },
  {
   "cell_type": "code",
   "execution_count": 12,
   "id": "23db79b8",
   "metadata": {},
   "outputs": [
    {
     "data": {
      "text/plain": [
       "count           22000\n",
       "unique             93\n",
       "top       2 weeks ago\n",
       "freq             3149\n",
       "Name: postdate, dtype: object"
      ]
     },
     "execution_count": 12,
     "metadata": {},
     "output_type": "execute_result"
    }
   ],
   "source": [
    "job_data['postdate'].describe()"
   ]
  },
  {
   "cell_type": "code",
   "execution_count": 16,
   "id": "ba5d7cb3",
   "metadata": {},
   "outputs": [
    {
     "data": {
      "text/plain": [
       "Telecommuting not available|Travel not required         20305\n",
       "Telecommuting not available|Travel required to 10%.       314\n",
       "Telecommuting not available|Travel required to 25%.       305\n",
       "Telecommuting not available|Travel required to 100%.      193\n",
       "Telecommuting available|Travel not required               146\n",
       "Telecommuting not available|Travel required to 50%.       141\n",
       "Telecommuting not available|Travel required to 75%.        97\n",
       "Telecommuting available|Travel required to 25%.            41\n",
       "Telecommuting not available|Travel required to 80%.        28\n",
       "Telecommuting available|Travel required to 50%.            21\n",
       "Name: shift, dtype: int64"
      ]
     },
     "execution_count": 16,
     "metadata": {},
     "output_type": "execute_result"
    }
   ],
   "source": [
    "job_data['shift'].value_counts().head(10)"
   ]
  },
  {
   "cell_type": "code",
   "execution_count": 18,
   "id": "1adf683e",
   "metadata": {},
   "outputs": [
    {
     "name": "stderr",
     "output_type": "stream",
     "text": [
      "C:\\Users\\MANEESH\\anaconda3\\lib\\site-packages\\seaborn\\_decorators.py:36: FutureWarning: Pass the following variable as a keyword arg: x. From version 0.12, the only valid positional argument will be `data`, and passing other arguments without an explicit keyword will result in an error or misinterpretation.\n",
      "  warnings.warn(\n"
     ]
    },
    {
     "data": {
      "text/plain": [
       "<AxesSubplot:xlabel='shift', ylabel='count'>"
      ]
     },
     "execution_count": 18,
     "metadata": {},
     "output_type": "execute_result"
    },
    {
     "data": {
      "image/png": "[encoded data removed]",
      "text/plain": [
       "<Figure size 432x288 with 1 Axes>"
      ]
     },
     "metadata": {
      "needs_background": "light"
     },
     "output_type": "display_data"
    }
   ],
   "source": [
    "sns.countplot(job_data['shift'].value_counts().head(10))"
   ]
  },
  {
   "cell_type": "code",
   "execution_count": 30,
   "id": "55027d77",
   "metadata": {},
   "outputs": [
    {
     "data": {
      "text/plain": [
       "Java Developer           174\n",
       "Project Manager          145\n",
       "Network Engineer         128\n",
       "Software Engineer        118\n",
       "Business Analyst         117\n",
       ".Net Developer            70\n",
       "DevOps Engineer           60\n",
       "Systems Engineer          55\n",
       "Systems Administrator     54\n",
       "Web Developer             53\n",
       "Name: jobtitle, dtype: int64"
      ]
     },
     "execution_count": 30,
     "metadata": {},
     "output_type": "execute_result"
    }
   ],
   "source": [
    "#Taking top 10 demanding jobs\n",
    "job_data['jobtitle'].value_counts().head(10)"
   ]
  },
  {
   "cell_type": "code",
   "execution_count": 26,
   "id": "497bd88f",
   "metadata": {},
   "outputs": [],
   "source": [
    "# Renamining employmenttype_jobstatus to job_status\n",
    "job_data.rename(columns = {'employmenttype_jobstatus':'job_status'}, inplace = True)"
   ]
  },
  {
   "cell_type": "code",
   "execution_count": 28,
   "id": "25f241dd",
   "metadata": {},
   "outputs": [
    {
     "data": {
      "text/plain": [
       "Text(0.5, 1.0, ' top 5 jobs ')"
      ]
     },
     "execution_count": 28,
     "metadata": {},
     "output_type": "execute_result"
    },
    {
     "data": {
      "image/png": "[encoded data removed]",
      "text/plain": [
       "<Figure size 720x360 with 1 Axes>"
      ]
     },
     "metadata": {
      "needs_background": "light"
     },
     "output_type": "display_data"
    }
   ],
   "source": [
    "plt.rcParams['figure.figsize']=(10,5)\n",
    "job_data['job_status'].value_counts().sort_values(ascending=False).head(5).plot.bar(color='pink')\n",
    "plt.title(' top 5 jobs ')\n"
   ]
  },
  {
   "cell_type": "markdown",
   "id": "76e591a5",
   "metadata": {},
   "source": [
    "observation: Most of the people look for a full time jobs"
   ]
  },
  {
   "cell_type": "code",
   "execution_count": 31,
   "id": "5dd05845",
   "metadata": {},
   "outputs": [
    {
     "data": {
      "text/plain": [
       "<AxesSubplot:ylabel='shift'>"
      ]
     },
     "execution_count": 31,
     "metadata": {},
     "output_type": "execute_result"
    },
    {
     "data": {
      "image/png": "[encoded data removed]",
      "text/plain": [
       "<Figure size 720x360 with 1 Axes>"
      ]
     },
     "metadata": {},
     "output_type": "display_data"
    }
   ],
   "source": [
    "#Taking top 7 shift time \n",
    "plt.rcParams['figure.figsize']=(10,5)\n",
    "job_data['shift'].value_counts().sort_values(ascending=True).head(7).plot.pie(y='shift',autopct=\"%0.1f%%\")"
   ]
  },
  {
   "cell_type": "code",
   "execution_count": null,
   "id": "3b945f58",
   "metadata": {},
   "outputs": [],
   "source": []
  }
 ],
 "metadata": {
  "kernelspec": {
   "display_name": "Python 3 (ipykernel)",
   "language": "python",
   "name": "python3"
  },
  "language_info": {
   "codemirror_mode": {
    "name": "ipython",
    "version": 3
   },
   "file_extension": ".py",
   "mimetype": "text/x-python",
   "name": "python",
   "nbconvert_exporter": "python",
   "pygments_lexer": "ipython3",
   "version": "3.9.7"
  }
 },
 "nbformat": 4,
 "nbformat_minor": 5
}
